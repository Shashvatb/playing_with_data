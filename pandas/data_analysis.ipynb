{
 "cells": [
  {
   "cell_type": "markdown",
   "metadata": {},
   "source": [
    "# Analysing the Data"
   ]
  },
  {
   "cell_type": "markdown",
   "metadata": {},
   "source": [
    "This notebook contains commands that can be used to get information regarding the file."
   ]
  },
  {
   "cell_type": "markdown",
   "metadata": {},
   "source": [
    "## Installing Dependencies"
   ]
  },
  {
   "cell_type": "code",
   "execution_count": 1,
   "metadata": {},
   "outputs": [
    {
     "name": "stdout",
     "output_type": "stream",
     "text": [
      "Requirement already satisfied: pandas in c:\\users\\shash\\appdata\\local\\programs\\python\\python36\\lib\\site-packages\n",
      "Requirement already satisfied: python-dateutil>=2.6.1 in c:\\users\\shash\\appdata\\local\\programs\\python\\python36\\lib\\site-packages (from pandas)\n",
      "Requirement already satisfied: pytz>=2017.2 in c:\\users\\shash\\appdata\\local\\programs\\python\\python36\\lib\\site-packages (from pandas)\n",
      "Requirement already satisfied: numpy>=1.13.3 in c:\\users\\shash\\appdata\\local\\programs\\python\\python36\\lib\\site-packages (from pandas)\n",
      "Requirement already satisfied: six>=1.5 in c:\\users\\shash\\appdata\\local\\programs\\python\\python36\\lib\\site-packages (from python-dateutil>=2.6.1->pandas)\n"
     ]
    },
    {
     "name": "stderr",
     "output_type": "stream",
     "text": [
      "You are using pip version 9.0.3, however version 20.2.2 is available.\n",
      "You should consider upgrading via the 'python -m pip install --upgrade pip' command.\n"
     ]
    },
    {
     "name": "stdout",
     "output_type": "stream",
     "text": [
      "Requirement already satisfied: matplotlib in c:\\users\\shash\\appdata\\local\\programs\\python\\python36\\lib\\site-packages\n",
      "Requirement already satisfied: kiwisolver>=1.0.1 in c:\\users\\shash\\appdata\\local\\programs\\python\\python36\\lib\\site-packages (from matplotlib)\n",
      "Requirement already satisfied: python-dateutil>=2.1 in c:\\users\\shash\\appdata\\local\\programs\\python\\python36\\lib\\site-packages (from matplotlib)\n",
      "Requirement already satisfied: numpy>=1.11 in c:\\users\\shash\\appdata\\local\\programs\\python\\python36\\lib\\site-packages (from matplotlib)\n",
      "Requirement already satisfied: pyparsing!=2.0.4,!=2.1.2,!=2.1.6,>=2.0.1 in c:\\users\\shash\\appdata\\local\\programs\\python\\python36\\lib\\site-packages (from matplotlib)\n",
      "Requirement already satisfied: cycler>=0.10 in c:\\users\\shash\\appdata\\local\\programs\\python\\python36\\lib\\site-packages (from matplotlib)\n",
      "Requirement already satisfied: setuptools in c:\\users\\shash\\appdata\\local\\programs\\python\\python36\\lib\\site-packages (from kiwisolver>=1.0.1->matplotlib)\n",
      "Requirement already satisfied: six>=1.5 in c:\\users\\shash\\appdata\\local\\programs\\python\\python36\\lib\\site-packages (from python-dateutil>=2.1->matplotlib)\n"
     ]
    },
    {
     "name": "stderr",
     "output_type": "stream",
     "text": [
      "You are using pip version 9.0.3, however version 20.2.2 is available.\n",
      "You should consider upgrading via the 'python -m pip install --upgrade pip' command.\n"
     ]
    }
   ],
   "source": [
    "!pip3 install pandas\n",
    "!pip3 install matplotlib"
   ]
  },
  {
   "cell_type": "markdown",
   "metadata": {},
   "source": [
    "## Import necessary libraries"
   ]
  },
  {
   "cell_type": "code",
   "execution_count": 2,
   "metadata": {},
   "outputs": [],
   "source": [
    "import pandas as pd\n",
    "import matplotlib.pyplot as plt\n",
    "import os"
   ]
  },
  {
   "cell_type": "markdown",
   "metadata": {},
   "source": [
    "## Reading data"
   ]
  },
  {
   "cell_type": "code",
   "execution_count": 3,
   "metadata": {},
   "outputs": [],
   "source": [
    "df = pd.read_csv(os.path.join(os.getcwd(), '..', 'data', 'data.csv'))"
   ]
  },
  {
   "cell_type": "markdown",
   "metadata": {},
   "source": [
    "### Display top 5 records"
   ]
  },
  {
   "cell_type": "code",
   "execution_count": 4,
   "metadata": {},
   "outputs": [
    {
     "data": {
      "text/html": [
       "<div>\n",
       "<style scoped>\n",
       "    .dataframe tbody tr th:only-of-type {\n",
       "        vertical-align: middle;\n",
       "    }\n",
       "\n",
       "    .dataframe tbody tr th {\n",
       "        vertical-align: top;\n",
       "    }\n",
       "\n",
       "    .dataframe thead th {\n",
       "        text-align: right;\n",
       "    }\n",
       "</style>\n",
       "<table border=\"1\" class=\"dataframe\">\n",
       "  <thead>\n",
       "    <tr style=\"text-align: right;\">\n",
       "      <th></th>\n",
       "      <th>State_UT</th>\n",
       "      <th>year</th>\n",
       "      <th>Primary_Boys</th>\n",
       "      <th>Primary_Girls</th>\n",
       "      <th>Primary_Total</th>\n",
       "      <th>Upper Primary_Boys</th>\n",
       "      <th>Upper Primary_Girls</th>\n",
       "      <th>Upper Primary_Total</th>\n",
       "      <th>Secondary _Boys</th>\n",
       "      <th>Secondary _Girls</th>\n",
       "      <th>Secondary _Total</th>\n",
       "      <th>HrSecondary_Boys</th>\n",
       "      <th>HrSecondary_Girls</th>\n",
       "      <th>HrSecondary_Total</th>\n",
       "    </tr>\n",
       "  </thead>\n",
       "  <tbody>\n",
       "    <tr>\n",
       "      <th>0</th>\n",
       "      <td>A &amp; N Islands</td>\n",
       "      <td>2012-13</td>\n",
       "      <td>0.83</td>\n",
       "      <td>0.51</td>\n",
       "      <td>0.68</td>\n",
       "      <td>Uppe_r_Primary</td>\n",
       "      <td>1.09</td>\n",
       "      <td>1.23</td>\n",
       "      <td>5.57</td>\n",
       "      <td>5.55</td>\n",
       "      <td>5.56</td>\n",
       "      <td>17.66</td>\n",
       "      <td>10.15</td>\n",
       "      <td>14.14</td>\n",
       "    </tr>\n",
       "    <tr>\n",
       "      <th>1</th>\n",
       "      <td>A &amp; N Islands</td>\n",
       "      <td>2013-14</td>\n",
       "      <td>1.35</td>\n",
       "      <td>1.06</td>\n",
       "      <td>1.21</td>\n",
       "      <td>NR</td>\n",
       "      <td>1.54</td>\n",
       "      <td>0.51</td>\n",
       "      <td>8.36</td>\n",
       "      <td>5.98</td>\n",
       "      <td>7.2</td>\n",
       "      <td>18.94</td>\n",
       "      <td>12.2</td>\n",
       "      <td>15.87</td>\n",
       "    </tr>\n",
       "    <tr>\n",
       "      <th>2</th>\n",
       "      <td>A &amp; N Islands</td>\n",
       "      <td>2014-15</td>\n",
       "      <td>0.47</td>\n",
       "      <td>0.55</td>\n",
       "      <td>0.51</td>\n",
       "      <td>1.44</td>\n",
       "      <td>1.95</td>\n",
       "      <td>1.69</td>\n",
       "      <td>11.47</td>\n",
       "      <td>8.16</td>\n",
       "      <td>9.87</td>\n",
       "      <td>21.05</td>\n",
       "      <td>12.21</td>\n",
       "      <td>16.93</td>\n",
       "    </tr>\n",
       "    <tr>\n",
       "      <th>3</th>\n",
       "      <td>Andhra Pradesh</td>\n",
       "      <td>2012-13</td>\n",
       "      <td>3.3</td>\n",
       "      <td>3.05</td>\n",
       "      <td>3.18</td>\n",
       "      <td>3.21</td>\n",
       "      <td>3.51</td>\n",
       "      <td>3.36</td>\n",
       "      <td>12.21</td>\n",
       "      <td>13.25</td>\n",
       "      <td>12.72</td>\n",
       "      <td>2.66</td>\n",
       "      <td>NR</td>\n",
       "      <td>0.35</td>\n",
       "    </tr>\n",
       "    <tr>\n",
       "      <th>4</th>\n",
       "      <td>Andhra Pradesh</td>\n",
       "      <td>2013-14</td>\n",
       "      <td>4.31</td>\n",
       "      <td>4.39</td>\n",
       "      <td>4.35</td>\n",
       "      <td>3.46</td>\n",
       "      <td>4.12</td>\n",
       "      <td>3.78</td>\n",
       "      <td>11.95</td>\n",
       "      <td>13.37</td>\n",
       "      <td>12.65</td>\n",
       "      <td>12.65</td>\n",
       "      <td>10.85</td>\n",
       "      <td>11.79</td>\n",
       "    </tr>\n",
       "  </tbody>\n",
       "</table>\n",
       "</div>"
      ],
      "text/plain": [
       "         State_UT     year Primary_Boys Primary_Girls Primary_Total  \\\n",
       "0   A & N Islands  2012-13         0.83          0.51          0.68   \n",
       "1   A & N Islands  2013-14         1.35          1.06          1.21   \n",
       "2   A & N Islands  2014-15         0.47          0.55          0.51   \n",
       "3  Andhra Pradesh  2012-13          3.3          3.05          3.18   \n",
       "4  Andhra Pradesh  2013-14         4.31          4.39          4.35   \n",
       "\n",
       "  Upper Primary_Boys Upper Primary_Girls Upper Primary_Total Secondary _Boys  \\\n",
       "0     Uppe_r_Primary                1.09                1.23            5.57   \n",
       "1                 NR                1.54                0.51            8.36   \n",
       "2               1.44                1.95                1.69           11.47   \n",
       "3               3.21                3.51                3.36           12.21   \n",
       "4               3.46                4.12                3.78           11.95   \n",
       "\n",
       "  Secondary _Girls Secondary _Total HrSecondary_Boys HrSecondary_Girls  \\\n",
       "0             5.55             5.56            17.66             10.15   \n",
       "1             5.98              7.2            18.94              12.2   \n",
       "2             8.16             9.87            21.05             12.21   \n",
       "3            13.25            12.72             2.66                NR   \n",
       "4            13.37            12.65            12.65             10.85   \n",
       "\n",
       "  HrSecondary_Total  \n",
       "0             14.14  \n",
       "1             15.87  \n",
       "2             16.93  \n",
       "3              0.35  \n",
       "4             11.79  "
      ]
     },
     "execution_count": 4,
     "metadata": {},
     "output_type": "execute_result"
    }
   ],
   "source": [
    "df.head()"
   ]
  },
  {
   "cell_type": "markdown",
   "metadata": {},
   "source": [
    "### Display top n records"
   ]
  },
  {
   "cell_type": "markdown",
   "metadata": {},
   "source": [
    "Here we use n = 20"
   ]
  },
  {
   "cell_type": "code",
   "execution_count": 5,
   "metadata": {},
   "outputs": [
    {
     "data": {
      "text/html": [
       "<div>\n",
       "<style scoped>\n",
       "    .dataframe tbody tr th:only-of-type {\n",
       "        vertical-align: middle;\n",
       "    }\n",
       "\n",
       "    .dataframe tbody tr th {\n",
       "        vertical-align: top;\n",
       "    }\n",
       "\n",
       "    .dataframe thead th {\n",
       "        text-align: right;\n",
       "    }\n",
       "</style>\n",
       "<table border=\"1\" class=\"dataframe\">\n",
       "  <thead>\n",
       "    <tr style=\"text-align: right;\">\n",
       "      <th></th>\n",
       "      <th>State_UT</th>\n",
       "      <th>year</th>\n",
       "      <th>Primary_Boys</th>\n",
       "      <th>Primary_Girls</th>\n",
       "      <th>Primary_Total</th>\n",
       "      <th>Upper Primary_Boys</th>\n",
       "      <th>Upper Primary_Girls</th>\n",
       "      <th>Upper Primary_Total</th>\n",
       "      <th>Secondary _Boys</th>\n",
       "      <th>Secondary _Girls</th>\n",
       "      <th>Secondary _Total</th>\n",
       "      <th>HrSecondary_Boys</th>\n",
       "      <th>HrSecondary_Girls</th>\n",
       "      <th>HrSecondary_Total</th>\n",
       "    </tr>\n",
       "  </thead>\n",
       "  <tbody>\n",
       "    <tr>\n",
       "      <th>0</th>\n",
       "      <td>A &amp; N Islands</td>\n",
       "      <td>2012-13</td>\n",
       "      <td>0.83</td>\n",
       "      <td>0.51</td>\n",
       "      <td>0.68</td>\n",
       "      <td>Uppe_r_Primary</td>\n",
       "      <td>1.09</td>\n",
       "      <td>1.23</td>\n",
       "      <td>5.57</td>\n",
       "      <td>5.55</td>\n",
       "      <td>5.56</td>\n",
       "      <td>17.66</td>\n",
       "      <td>10.15</td>\n",
       "      <td>14.14</td>\n",
       "    </tr>\n",
       "    <tr>\n",
       "      <th>1</th>\n",
       "      <td>A &amp; N Islands</td>\n",
       "      <td>2013-14</td>\n",
       "      <td>1.35</td>\n",
       "      <td>1.06</td>\n",
       "      <td>1.21</td>\n",
       "      <td>NR</td>\n",
       "      <td>1.54</td>\n",
       "      <td>0.51</td>\n",
       "      <td>8.36</td>\n",
       "      <td>5.98</td>\n",
       "      <td>7.2</td>\n",
       "      <td>18.94</td>\n",
       "      <td>12.2</td>\n",
       "      <td>15.87</td>\n",
       "    </tr>\n",
       "    <tr>\n",
       "      <th>2</th>\n",
       "      <td>A &amp; N Islands</td>\n",
       "      <td>2014-15</td>\n",
       "      <td>0.47</td>\n",
       "      <td>0.55</td>\n",
       "      <td>0.51</td>\n",
       "      <td>1.44</td>\n",
       "      <td>1.95</td>\n",
       "      <td>1.69</td>\n",
       "      <td>11.47</td>\n",
       "      <td>8.16</td>\n",
       "      <td>9.87</td>\n",
       "      <td>21.05</td>\n",
       "      <td>12.21</td>\n",
       "      <td>16.93</td>\n",
       "    </tr>\n",
       "    <tr>\n",
       "      <th>3</th>\n",
       "      <td>Andhra Pradesh</td>\n",
       "      <td>2012-13</td>\n",
       "      <td>3.3</td>\n",
       "      <td>3.05</td>\n",
       "      <td>3.18</td>\n",
       "      <td>3.21</td>\n",
       "      <td>3.51</td>\n",
       "      <td>3.36</td>\n",
       "      <td>12.21</td>\n",
       "      <td>13.25</td>\n",
       "      <td>12.72</td>\n",
       "      <td>2.66</td>\n",
       "      <td>NR</td>\n",
       "      <td>0.35</td>\n",
       "    </tr>\n",
       "    <tr>\n",
       "      <th>4</th>\n",
       "      <td>Andhra Pradesh</td>\n",
       "      <td>2013-14</td>\n",
       "      <td>4.31</td>\n",
       "      <td>4.39</td>\n",
       "      <td>4.35</td>\n",
       "      <td>3.46</td>\n",
       "      <td>4.12</td>\n",
       "      <td>3.78</td>\n",
       "      <td>11.95</td>\n",
       "      <td>13.37</td>\n",
       "      <td>12.65</td>\n",
       "      <td>12.65</td>\n",
       "      <td>10.85</td>\n",
       "      <td>11.79</td>\n",
       "    </tr>\n",
       "    <tr>\n",
       "      <th>5</th>\n",
       "      <td>Andhra Pradesh</td>\n",
       "      <td>2014-15</td>\n",
       "      <td>6.57</td>\n",
       "      <td>6.89</td>\n",
       "      <td>6.72</td>\n",
       "      <td>5.09</td>\n",
       "      <td>5.32</td>\n",
       "      <td>5.2</td>\n",
       "      <td>15.81</td>\n",
       "      <td>15.6</td>\n",
       "      <td>15.71</td>\n",
       "      <td>NR</td>\n",
       "      <td>NR</td>\n",
       "      <td>NR</td>\n",
       "    </tr>\n",
       "    <tr>\n",
       "      <th>6</th>\n",
       "      <td>Arunachal  Pradesh</td>\n",
       "      <td>2013-14</td>\n",
       "      <td>11.54</td>\n",
       "      <td>10.22</td>\n",
       "      <td>10.89</td>\n",
       "      <td>4.44</td>\n",
       "      <td>6.74</td>\n",
       "      <td>5.59</td>\n",
       "      <td>16.08</td>\n",
       "      <td>12.75</td>\n",
       "      <td>14.49</td>\n",
       "      <td>18.57</td>\n",
       "      <td>15.49</td>\n",
       "      <td>17.07</td>\n",
       "    </tr>\n",
       "    <tr>\n",
       "      <th>7</th>\n",
       "      <td>Arunachal Pradesh</td>\n",
       "      <td>2012-13</td>\n",
       "      <td>15.84</td>\n",
       "      <td>14.44</td>\n",
       "      <td>15.16</td>\n",
       "      <td>5.86</td>\n",
       "      <td>9.06</td>\n",
       "      <td>7.47</td>\n",
       "      <td>13.99</td>\n",
       "      <td>11.77</td>\n",
       "      <td>12.93</td>\n",
       "      <td>7.85</td>\n",
       "      <td>2.14</td>\n",
       "      <td>5.11</td>\n",
       "    </tr>\n",
       "    <tr>\n",
       "      <th>8</th>\n",
       "      <td>Arunachal Pradesh</td>\n",
       "      <td>2014-15</td>\n",
       "      <td>11.51</td>\n",
       "      <td>10.09</td>\n",
       "      <td>10.82</td>\n",
       "      <td>5.31</td>\n",
       "      <td>8.08</td>\n",
       "      <td>6.71</td>\n",
       "      <td>18.33</td>\n",
       "      <td>15.81</td>\n",
       "      <td>17.11</td>\n",
       "      <td>19.37</td>\n",
       "      <td>17.44</td>\n",
       "      <td>18.42</td>\n",
       "    </tr>\n",
       "    <tr>\n",
       "      <th>9</th>\n",
       "      <td>Assam</td>\n",
       "      <td>2012-13</td>\n",
       "      <td>7.02</td>\n",
       "      <td>5.46</td>\n",
       "      <td>6.24</td>\n",
       "      <td>7.89</td>\n",
       "      <td>6.55</td>\n",
       "      <td>7.2</td>\n",
       "      <td>25.65</td>\n",
       "      <td>27.79</td>\n",
       "      <td>26.77</td>\n",
       "      <td>4.87</td>\n",
       "      <td>4.5</td>\n",
       "      <td>4.69</td>\n",
       "    </tr>\n",
       "    <tr>\n",
       "      <th>10</th>\n",
       "      <td>Assam</td>\n",
       "      <td>2013-14</td>\n",
       "      <td>8.19</td>\n",
       "      <td>6.68</td>\n",
       "      <td>7.44</td>\n",
       "      <td>7.6</td>\n",
       "      <td>6.54</td>\n",
       "      <td>7.05</td>\n",
       "      <td>28.59</td>\n",
       "      <td>32.1</td>\n",
       "      <td>30.43</td>\n",
       "      <td>7.62</td>\n",
       "      <td>6.83</td>\n",
       "      <td>7.24</td>\n",
       "    </tr>\n",
       "    <tr>\n",
       "      <th>11</th>\n",
       "      <td>Assam</td>\n",
       "      <td>2014-15</td>\n",
       "      <td>16.07</td>\n",
       "      <td>14.65</td>\n",
       "      <td>15.36</td>\n",
       "      <td>10.45</td>\n",
       "      <td>10.56</td>\n",
       "      <td>10.51</td>\n",
       "      <td>24.64</td>\n",
       "      <td>29.28</td>\n",
       "      <td>27.06</td>\n",
       "      <td>NR</td>\n",
       "      <td>NR</td>\n",
       "      <td>NR</td>\n",
       "    </tr>\n",
       "    <tr>\n",
       "      <th>12</th>\n",
       "      <td>Bihar</td>\n",
       "      <td>2012-13</td>\n",
       "      <td>NR</td>\n",
       "      <td>NR</td>\n",
       "      <td>NR</td>\n",
       "      <td>NR</td>\n",
       "      <td>NR</td>\n",
       "      <td>NR</td>\n",
       "      <td>29.11</td>\n",
       "      <td>31.28</td>\n",
       "      <td>30.14</td>\n",
       "      <td>NR</td>\n",
       "      <td>NR</td>\n",
       "      <td>NR</td>\n",
       "    </tr>\n",
       "    <tr>\n",
       "      <th>13</th>\n",
       "      <td>Bihar</td>\n",
       "      <td>2013-14</td>\n",
       "      <td>2.38</td>\n",
       "      <td>1.79</td>\n",
       "      <td>2.09</td>\n",
       "      <td>2.77</td>\n",
       "      <td>3.19</td>\n",
       "      <td>2.98</td>\n",
       "      <td>24.67</td>\n",
       "      <td>26.05</td>\n",
       "      <td>25.33</td>\n",
       "      <td>NR</td>\n",
       "      <td>NR</td>\n",
       "      <td>NR</td>\n",
       "    </tr>\n",
       "    <tr>\n",
       "      <th>14</th>\n",
       "      <td>Bihar</td>\n",
       "      <td>2014-15</td>\n",
       "      <td>0.35</td>\n",
       "      <td>NR</td>\n",
       "      <td>NR</td>\n",
       "      <td>4.14</td>\n",
       "      <td>4.01</td>\n",
       "      <td>4.08</td>\n",
       "      <td>25.21</td>\n",
       "      <td>26.62</td>\n",
       "      <td>25.9</td>\n",
       "      <td>NR</td>\n",
       "      <td>NR</td>\n",
       "      <td>NR</td>\n",
       "    </tr>\n",
       "    <tr>\n",
       "      <th>15</th>\n",
       "      <td>Chandigarh</td>\n",
       "      <td>2012-13</td>\n",
       "      <td>NR</td>\n",
       "      <td>NR</td>\n",
       "      <td>NR</td>\n",
       "      <td>NR</td>\n",
       "      <td>0.88</td>\n",
       "      <td>0.1</td>\n",
       "      <td>NR</td>\n",
       "      <td>NR</td>\n",
       "      <td>NR</td>\n",
       "      <td>16.32</td>\n",
       "      <td>10.09</td>\n",
       "      <td>13.65</td>\n",
       "    </tr>\n",
       "    <tr>\n",
       "      <th>16</th>\n",
       "      <td>Chandigarh</td>\n",
       "      <td>2013-14</td>\n",
       "      <td>NR</td>\n",
       "      <td>NR</td>\n",
       "      <td>NR</td>\n",
       "      <td>0.72</td>\n",
       "      <td>1.55</td>\n",
       "      <td>1.08</td>\n",
       "      <td>NR</td>\n",
       "      <td>NR</td>\n",
       "      <td>NR</td>\n",
       "      <td>13.24</td>\n",
       "      <td>8.49</td>\n",
       "      <td>11.28</td>\n",
       "    </tr>\n",
       "    <tr>\n",
       "      <th>17</th>\n",
       "      <td>Chandigarh</td>\n",
       "      <td>2014-15</td>\n",
       "      <td>NR</td>\n",
       "      <td>NR</td>\n",
       "      <td>NR</td>\n",
       "      <td>0.01</td>\n",
       "      <td>0.96</td>\n",
       "      <td>0.44</td>\n",
       "      <td>NR</td>\n",
       "      <td>NR</td>\n",
       "      <td>NR</td>\n",
       "      <td>12.1</td>\n",
       "      <td>8.41</td>\n",
       "      <td>10.55</td>\n",
       "    </tr>\n",
       "    <tr>\n",
       "      <th>18</th>\n",
       "      <td>Chhattisgarh</td>\n",
       "      <td>2012-13</td>\n",
       "      <td>4.24</td>\n",
       "      <td>4.05</td>\n",
       "      <td>4.14</td>\n",
       "      <td>6.09</td>\n",
       "      <td>4.73</td>\n",
       "      <td>5.42</td>\n",
       "      <td>14.82</td>\n",
       "      <td>14.89</td>\n",
       "      <td>14.86</td>\n",
       "      <td>NR</td>\n",
       "      <td>NR</td>\n",
       "      <td>NR</td>\n",
       "    </tr>\n",
       "    <tr>\n",
       "      <th>19</th>\n",
       "      <td>Chhattisgarh</td>\n",
       "      <td>2013-14</td>\n",
       "      <td>1.45</td>\n",
       "      <td>1.38</td>\n",
       "      <td>1.42</td>\n",
       "      <td>4.09</td>\n",
       "      <td>3.51</td>\n",
       "      <td>3.8</td>\n",
       "      <td>24.1</td>\n",
       "      <td>22.72</td>\n",
       "      <td>23.41</td>\n",
       "      <td>NR</td>\n",
       "      <td>2.13</td>\n",
       "      <td>NR</td>\n",
       "    </tr>\n",
       "  </tbody>\n",
       "</table>\n",
       "</div>"
      ],
      "text/plain": [
       "              State_UT     year Primary_Boys Primary_Girls Primary_Total  \\\n",
       "0        A & N Islands  2012-13         0.83          0.51          0.68   \n",
       "1        A & N Islands  2013-14         1.35          1.06          1.21   \n",
       "2        A & N Islands  2014-15         0.47          0.55          0.51   \n",
       "3       Andhra Pradesh  2012-13          3.3          3.05          3.18   \n",
       "4       Andhra Pradesh  2013-14         4.31          4.39          4.35   \n",
       "5       Andhra Pradesh  2014-15         6.57          6.89          6.72   \n",
       "6   Arunachal  Pradesh  2013-14        11.54         10.22         10.89   \n",
       "7    Arunachal Pradesh  2012-13        15.84         14.44         15.16   \n",
       "8    Arunachal Pradesh  2014-15        11.51         10.09         10.82   \n",
       "9                Assam  2012-13         7.02          5.46          6.24   \n",
       "10               Assam  2013-14         8.19          6.68          7.44   \n",
       "11               Assam  2014-15        16.07         14.65         15.36   \n",
       "12               Bihar  2012-13           NR            NR            NR   \n",
       "13               Bihar  2013-14         2.38          1.79          2.09   \n",
       "14               Bihar  2014-15         0.35            NR            NR   \n",
       "15          Chandigarh  2012-13           NR            NR            NR   \n",
       "16          Chandigarh  2013-14           NR            NR            NR   \n",
       "17          Chandigarh  2014-15           NR            NR            NR   \n",
       "18        Chhattisgarh  2012-13         4.24          4.05          4.14   \n",
       "19        Chhattisgarh  2013-14         1.45          1.38          1.42   \n",
       "\n",
       "   Upper Primary_Boys Upper Primary_Girls Upper Primary_Total Secondary _Boys  \\\n",
       "0      Uppe_r_Primary                1.09                1.23            5.57   \n",
       "1                  NR                1.54                0.51            8.36   \n",
       "2                1.44                1.95                1.69           11.47   \n",
       "3                3.21                3.51                3.36           12.21   \n",
       "4                3.46                4.12                3.78           11.95   \n",
       "5                5.09                5.32                 5.2           15.81   \n",
       "6                4.44                6.74                5.59           16.08   \n",
       "7                5.86                9.06                7.47           13.99   \n",
       "8                5.31                8.08                6.71           18.33   \n",
       "9                7.89                6.55                 7.2           25.65   \n",
       "10                7.6                6.54                7.05           28.59   \n",
       "11              10.45               10.56               10.51           24.64   \n",
       "12                 NR                  NR                  NR           29.11   \n",
       "13               2.77                3.19                2.98           24.67   \n",
       "14               4.14                4.01                4.08           25.21   \n",
       "15                 NR                0.88                 0.1              NR   \n",
       "16               0.72                1.55                1.08              NR   \n",
       "17               0.01                0.96                0.44              NR   \n",
       "18               6.09                4.73                5.42           14.82   \n",
       "19               4.09                3.51                 3.8            24.1   \n",
       "\n",
       "   Secondary _Girls Secondary _Total HrSecondary_Boys HrSecondary_Girls  \\\n",
       "0              5.55             5.56            17.66             10.15   \n",
       "1              5.98              7.2            18.94              12.2   \n",
       "2              8.16             9.87            21.05             12.21   \n",
       "3             13.25            12.72             2.66                NR   \n",
       "4             13.37            12.65            12.65             10.85   \n",
       "5              15.6            15.71               NR                NR   \n",
       "6             12.75            14.49            18.57             15.49   \n",
       "7             11.77            12.93             7.85              2.14   \n",
       "8             15.81            17.11            19.37             17.44   \n",
       "9             27.79            26.77             4.87               4.5   \n",
       "10             32.1            30.43             7.62              6.83   \n",
       "11            29.28            27.06               NR                NR   \n",
       "12            31.28            30.14               NR                NR   \n",
       "13            26.05            25.33               NR                NR   \n",
       "14            26.62             25.9               NR                NR   \n",
       "15               NR               NR            16.32             10.09   \n",
       "16               NR               NR            13.24              8.49   \n",
       "17               NR               NR             12.1              8.41   \n",
       "18            14.89            14.86               NR                NR   \n",
       "19            22.72            23.41               NR              2.13   \n",
       "\n",
       "   HrSecondary_Total  \n",
       "0              14.14  \n",
       "1              15.87  \n",
       "2              16.93  \n",
       "3               0.35  \n",
       "4              11.79  \n",
       "5                 NR  \n",
       "6              17.07  \n",
       "7               5.11  \n",
       "8              18.42  \n",
       "9               4.69  \n",
       "10              7.24  \n",
       "11                NR  \n",
       "12                NR  \n",
       "13                NR  \n",
       "14                NR  \n",
       "15             13.65  \n",
       "16             11.28  \n",
       "17             10.55  \n",
       "18                NR  \n",
       "19                NR  "
      ]
     },
     "execution_count": 5,
     "metadata": {},
     "output_type": "execute_result"
    }
   ],
   "source": [
    "df.head(20)"
   ]
  },
  {
   "cell_type": "markdown",
   "metadata": {},
   "source": [
    "### The shape of the dataframe"
   ]
  },
  {
   "cell_type": "markdown",
   "metadata": {},
   "source": [
    "This call returns a tuple of 2 values<br>\n",
    "1) The number of records <br>\n",
    "2) The number of columns"
   ]
  },
  {
   "cell_type": "code",
   "execution_count": 6,
   "metadata": {},
   "outputs": [
    {
     "data": {
      "text/plain": [
       "(110, 14)"
      ]
     },
     "execution_count": 6,
     "metadata": {},
     "output_type": "execute_result"
    }
   ],
   "source": [
    "df.shape"
   ]
  },
  {
   "cell_type": "markdown",
   "metadata": {},
   "source": [
    "### Get basic information about the dataframe"
   ]
  },
  {
   "cell_type": "markdown",
   "metadata": {},
   "source": [
    "It returns the following:<br>\n",
    "1) The Class of the dataframe (in our case, it will remain the same)<br>\n",
    "2) Number of records<br>\n",
    "3) Range of index<br>\n",
    "4) Information about the columns:<br>\n",
    "    &emsp; a) Name of the column<br>\n",
    "    &emsp; b) Null count <br>\n",
    "    &emsp; c) Datatype<br>\n",
    "5) All the datatypes present<br>\n",
    "6) Memory (RAM) consumption"
   ]
  },
  {
   "cell_type": "code",
   "execution_count": 7,
   "metadata": {},
   "outputs": [
    {
     "name": "stdout",
     "output_type": "stream",
     "text": [
      "<class 'pandas.core.frame.DataFrame'>\n",
      "RangeIndex: 110 entries, 0 to 109\n",
      "Data columns (total 14 columns):\n",
      " #   Column               Non-Null Count  Dtype \n",
      "---  ------               --------------  ----- \n",
      " 0   State_UT             110 non-null    object\n",
      " 1   year                 110 non-null    object\n",
      " 2   Primary_Boys         110 non-null    object\n",
      " 3   Primary_Girls        110 non-null    object\n",
      " 4   Primary_Total        110 non-null    object\n",
      " 5   Upper Primary_Boys   110 non-null    object\n",
      " 6   Upper Primary_Girls  110 non-null    object\n",
      " 7   Upper Primary_Total  110 non-null    object\n",
      " 8   Secondary _Boys      110 non-null    object\n",
      " 9   Secondary _Girls     110 non-null    object\n",
      " 10  Secondary _Total     110 non-null    object\n",
      " 11  HrSecondary_Boys     110 non-null    object\n",
      " 12  HrSecondary_Girls    110 non-null    object\n",
      " 13  HrSecondary_Total    110 non-null    object\n",
      "dtypes: object(14)\n",
      "memory usage: 12.2+ KB\n"
     ]
    }
   ],
   "source": [
    "df.info()"
   ]
  },
  {
   "cell_type": "markdown",
   "metadata": {},
   "source": [
    "### Get statistical information about the dataframe"
   ]
  },
  {
   "cell_type": "markdown",
   "metadata": {},
   "source": [
    "Here, we can get basic information like number of unique values, top occurance, its frequency etc"
   ]
  },
  {
   "cell_type": "code",
   "execution_count": 8,
   "metadata": {},
   "outputs": [
    {
     "data": {
      "text/html": [
       "<div>\n",
       "<style scoped>\n",
       "    .dataframe tbody tr th:only-of-type {\n",
       "        vertical-align: middle;\n",
       "    }\n",
       "\n",
       "    .dataframe tbody tr th {\n",
       "        vertical-align: top;\n",
       "    }\n",
       "\n",
       "    .dataframe thead th {\n",
       "        text-align: right;\n",
       "    }\n",
       "</style>\n",
       "<table border=\"1\" class=\"dataframe\">\n",
       "  <thead>\n",
       "    <tr style=\"text-align: right;\">\n",
       "      <th></th>\n",
       "      <th>State_UT</th>\n",
       "      <th>year</th>\n",
       "      <th>Primary_Boys</th>\n",
       "      <th>Primary_Girls</th>\n",
       "      <th>Primary_Total</th>\n",
       "      <th>Upper Primary_Boys</th>\n",
       "      <th>Upper Primary_Girls</th>\n",
       "      <th>Upper Primary_Total</th>\n",
       "      <th>Secondary _Boys</th>\n",
       "      <th>Secondary _Girls</th>\n",
       "      <th>Secondary _Total</th>\n",
       "      <th>HrSecondary_Boys</th>\n",
       "      <th>HrSecondary_Girls</th>\n",
       "      <th>HrSecondary_Total</th>\n",
       "    </tr>\n",
       "  </thead>\n",
       "  <tbody>\n",
       "    <tr>\n",
       "      <th>count</th>\n",
       "      <td>110</td>\n",
       "      <td>110</td>\n",
       "      <td>110</td>\n",
       "      <td>110</td>\n",
       "      <td>110</td>\n",
       "      <td>110</td>\n",
       "      <td>110</td>\n",
       "      <td>110</td>\n",
       "      <td>110</td>\n",
       "      <td>110</td>\n",
       "      <td>110</td>\n",
       "      <td>110</td>\n",
       "      <td>110</td>\n",
       "      <td>110</td>\n",
       "    </tr>\n",
       "    <tr>\n",
       "      <th>unique</th>\n",
       "      <td>40</td>\n",
       "      <td>3</td>\n",
       "      <td>93</td>\n",
       "      <td>87</td>\n",
       "      <td>87</td>\n",
       "      <td>91</td>\n",
       "      <td>97</td>\n",
       "      <td>96</td>\n",
       "      <td>106</td>\n",
       "      <td>107</td>\n",
       "      <td>106</td>\n",
       "      <td>81</td>\n",
       "      <td>76</td>\n",
       "      <td>78</td>\n",
       "    </tr>\n",
       "    <tr>\n",
       "      <th>top</th>\n",
       "      <td>Tripura</td>\n",
       "      <td>2013-14</td>\n",
       "      <td>NR</td>\n",
       "      <td>NR</td>\n",
       "      <td>NR</td>\n",
       "      <td>NR</td>\n",
       "      <td>NR</td>\n",
       "      <td>NR</td>\n",
       "      <td>NR</td>\n",
       "      <td>NR</td>\n",
       "      <td>NR</td>\n",
       "      <td>NR</td>\n",
       "      <td>NR</td>\n",
       "      <td>NR</td>\n",
       "    </tr>\n",
       "    <tr>\n",
       "      <th>freq</th>\n",
       "      <td>3</td>\n",
       "      <td>37</td>\n",
       "      <td>15</td>\n",
       "      <td>15</td>\n",
       "      <td>17</td>\n",
       "      <td>16</td>\n",
       "      <td>8</td>\n",
       "      <td>9</td>\n",
       "      <td>4</td>\n",
       "      <td>4</td>\n",
       "      <td>4</td>\n",
       "      <td>28</td>\n",
       "      <td>34</td>\n",
       "      <td>31</td>\n",
       "    </tr>\n",
       "  </tbody>\n",
       "</table>\n",
       "</div>"
      ],
      "text/plain": [
       "       State_UT     year Primary_Boys Primary_Girls Primary_Total  \\\n",
       "count       110      110          110           110           110   \n",
       "unique       40        3           93            87            87   \n",
       "top     Tripura  2013-14           NR            NR            NR   \n",
       "freq          3       37           15            15            17   \n",
       "\n",
       "       Upper Primary_Boys Upper Primary_Girls Upper Primary_Total  \\\n",
       "count                 110                 110                 110   \n",
       "unique                 91                  97                  96   \n",
       "top                    NR                  NR                  NR   \n",
       "freq                   16                   8                   9   \n",
       "\n",
       "       Secondary _Boys Secondary _Girls Secondary _Total HrSecondary_Boys  \\\n",
       "count              110              110              110              110   \n",
       "unique             106              107              106               81   \n",
       "top                 NR               NR               NR               NR   \n",
       "freq                 4                4                4               28   \n",
       "\n",
       "       HrSecondary_Girls HrSecondary_Total  \n",
       "count                110               110  \n",
       "unique                76                78  \n",
       "top                   NR                NR  \n",
       "freq                  34                31  "
      ]
     },
     "execution_count": 8,
     "metadata": {},
     "output_type": "execute_result"
    }
   ],
   "source": [
    "df.describe()"
   ]
  },
  {
   "cell_type": "markdown",
   "metadata": {},
   "source": [
    "Note: Please ignore the \".replace()\" and \".astype()\" functions used. We will cover them in later notebooks"
   ]
  },
  {
   "cell_type": "markdown",
   "metadata": {},
   "source": [
    "For numeric fields, we can get more statistical information"
   ]
  },
  {
   "cell_type": "code",
   "execution_count": 9,
   "metadata": {},
   "outputs": [
    {
     "data": {
      "text/plain": [
       "count    110.000000\n",
       "mean       4.617273\n",
       "std        4.653931\n",
       "min        0.000000\n",
       "25%        1.282500\n",
       "50%        3.080000\n",
       "75%        6.860000\n",
       "max       24.270000\n",
       "Name: Primary_Boys, dtype: float64"
      ]
     },
     "execution_count": 9,
     "metadata": {},
     "output_type": "execute_result"
    }
   ],
   "source": [
    "df['Primary_Boys'].replace('NR', None).astype(float).describe()"
   ]
  },
  {
   "cell_type": "markdown",
   "metadata": {},
   "source": [
    "### Finding mean and median of a numeric field"
   ]
  },
  {
   "cell_type": "code",
   "execution_count": 10,
   "metadata": {},
   "outputs": [
    {
     "data": {
      "text/plain": [
       "4.617272727272727"
      ]
     },
     "execution_count": 10,
     "metadata": {},
     "output_type": "execute_result"
    }
   ],
   "source": [
    "df['Primary_Boys'].replace('NR', None).astype(float).mean()"
   ]
  },
  {
   "cell_type": "code",
   "execution_count": 11,
   "metadata": {},
   "outputs": [
    {
     "data": {
      "text/plain": [
       "3.08"
      ]
     },
     "execution_count": 11,
     "metadata": {},
     "output_type": "execute_result"
    }
   ],
   "source": [
    "df['Primary_Boys'].replace('NR', None).astype(float).median()"
   ]
  },
  {
   "cell_type": "markdown",
   "metadata": {},
   "source": [
    "Please note that these values match the ones present in the output for \".describe()\" function"
   ]
  },
  {
   "cell_type": "markdown",
   "metadata": {},
   "source": [
    "### Plotting the data"
   ]
  },
  {
   "cell_type": "markdown",
   "metadata": {},
   "source": [
    "This function uses matplotlib on the backend."
   ]
  },
  {
   "cell_type": "code",
   "execution_count": 12,
   "metadata": {},
   "outputs": [
    {
     "data": {
      "text/plain": [
       "<matplotlib.axes._subplots.AxesSubplot at 0x1f9fba564e0>"
      ]
     },
     "execution_count": 12,
     "metadata": {},
     "output_type": "execute_result"
    },
    {
     "data": {
      "image/png": "[encoded data removed]",
      "text/plain": [
       "<Figure size 432x288 with 1 Axes>"
      ]
     },
     "metadata": {
      "needs_background": "light"
     },
     "output_type": "display_data"
    }
   ],
   "source": [
    "df['Primary_Boys'].replace('NR', None).astype(float).plot()"
   ]
  },
  {
   "cell_type": "markdown",
   "metadata": {},
   "source": [
    "Plotting a box plot."
   ]
  },
  {
   "cell_type": "code",
   "execution_count": 13,
   "metadata": {},
   "outputs": [
    {
     "data": {
      "text/plain": [
       "<matplotlib.axes._subplots.AxesSubplot at 0x1f9fdb13630>"
      ]
     },
     "execution_count": 13,
     "metadata": {},
     "output_type": "execute_result"
    },
    {
     "data": {
      "image/png": "[encoded data removed]",
      "text/plain": [
       "<Figure size 432x288 with 1 Axes>"
      ]
     },
     "metadata": {
      "needs_background": "light"
     },
     "output_type": "display_data"
    }
   ],
   "source": [
    "df['Primary_Boys'].replace('NR', None).astype(float).plot(kind='box')"
   ]
  },
  {
   "cell_type": "markdown",
   "metadata": {},
   "source": [
    "Density plot"
   ]
  },
  {
   "cell_type": "code",
   "execution_count": 14,
   "metadata": {},
   "outputs": [
    {
     "data": {
      "text/plain": [
       "<matplotlib.axes._subplots.AxesSubplot at 0x1f9fdb93fd0>"
      ]
     },
     "execution_count": 14,
     "metadata": {},
     "output_type": "execute_result"
    },
    {
     "data": {
      "image/png": "[encoded data removed]",
      "text/plain": [
       "<Figure size 432x288 with 1 Axes>"
      ]
     },
     "metadata": {
      "needs_background": "light"
     },
     "output_type": "display_data"
    }
   ],
   "source": [
    "df['Primary_Boys'].replace('NR', None).astype(float).plot(kind='density')"
   ]
  },
  {
   "cell_type": "markdown",
   "metadata": {},
   "source": [
    "Histogram"
   ]
  },
  {
   "cell_type": "code",
   "execution_count": 15,
   "metadata": {},
   "outputs": [
    {
     "data": {
      "text/plain": [
       "<matplotlib.axes._subplots.AxesSubplot at 0x1f9ff8e9c50>"
      ]
     },
     "execution_count": 15,
     "metadata": {},
     "output_type": "execute_result"
    },
    {
     "data": {
      "image/png": "[encoded data removed]",
      "text/plain": [
       "<Figure size 432x288 with 1 Axes>"
      ]
     },
     "metadata": {
      "needs_background": "light"
     },
     "output_type": "display_data"
    }
   ],
   "source": [
    "df['Primary_Boys'].replace('NR', None).astype(float).plot(kind='hist')"
   ]
  },
  {
   "cell_type": "markdown",
   "metadata": {},
   "source": [
    "### Counting values for each unique record"
   ]
  },
  {
   "cell_type": "markdown",
   "metadata": {},
   "source": [
    "This can easily be used to check for unbalanced data"
   ]
  },
  {
   "cell_type": "code",
   "execution_count": 16,
   "metadata": {},
   "outputs": [
    {
     "data": {
      "text/plain": [
       "Tripura                 3\n",
       "Delhi                   3\n",
       "Bihar                   3\n",
       "Chhattisgarh            3\n",
       "Andhra Pradesh          3\n",
       "Jharkhand               3\n",
       "Meghalaya               3\n",
       "A & N Islands           3\n",
       "West Bengal             3\n",
       "Uttarakhand             3\n",
       "Assam                   3\n",
       "Jammu & Kashmir         3\n",
       "Odisha                  3\n",
       "Chandigarh              3\n",
       "Karnataka               3\n",
       "Dadra & Nagar Haveli    3\n",
       "Uttar Pradesh           3\n",
       "Puducherry              3\n",
       "Daman & Diu             3\n",
       "Goa                     3\n",
       "Nagaland                3\n",
       "All India               3\n",
       "Punjab                  3\n",
       "Himachal Pradesh        3\n",
       "Sikkim                  3\n",
       "Lakshadweep             3\n",
       "Haryana                 3\n",
       "Kerala                  3\n",
       "Manipur                 3\n",
       "Maharashtra             3\n",
       "Mizoram                 3\n",
       "Gujarat                 3\n",
       "Rajasthan               3\n",
       "Arunachal Pradesh       2\n",
       "Madhya Pradesh          2\n",
       "Telangana               2\n",
       "Tamil Nadu              2\n",
       "Madhya  Pradesh         1\n",
       "Tamil  Nadu             1\n",
       "Arunachal  Pradesh      1\n",
       "Name: State_UT, dtype: int64"
      ]
     },
     "execution_count": 16,
     "metadata": {},
     "output_type": "execute_result"
    }
   ],
   "source": [
    "df['State_UT'].value_counts()"
   ]
  },
  {
   "cell_type": "markdown",
   "metadata": {},
   "source": [
    "### Plotting the counts as pie chart"
   ]
  },
  {
   "cell_type": "code",
   "execution_count": 17,
   "metadata": {},
   "outputs": [
    {
     "data": {
      "text/plain": [
       "<matplotlib.axes._subplots.AxesSubplot at 0x1f9ff8d2588>"
      ]
     },
     "execution_count": 17,
     "metadata": {},
     "output_type": "execute_result"
    },
    {
     "data": {
      "image/png": "[encoded data removed]",
      "text/plain": [
       "<Figure size 432x288 with 1 Axes>"
      ]
     },
     "metadata": {},
     "output_type": "display_data"
    }
   ],
   "source": [
    "df['State_UT'].value_counts().plot(kind='pie')"
   ]
  },
  {
   "cell_type": "markdown",
   "metadata": {},
   "source": [
    "Similiarly, we can plot various graphs for the counts"
   ]
  },
  {
   "cell_type": "markdown",
   "metadata": {},
   "source": [
    "### Finding correlation between columns"
   ]
  },
  {
   "cell_type": "code",
   "execution_count": 18,
   "metadata": {},
   "outputs": [
    {
     "data": {
      "text/html": [
       "<div>\n",
       "<style scoped>\n",
       "    .dataframe tbody tr th:only-of-type {\n",
       "        vertical-align: middle;\n",
       "    }\n",
       "\n",
       "    .dataframe tbody tr th {\n",
       "        vertical-align: top;\n",
       "    }\n",
       "\n",
       "    .dataframe thead th {\n",
       "        text-align: right;\n",
       "    }\n",
       "</style>\n",
       "<table border=\"1\" class=\"dataframe\">\n",
       "  <thead>\n",
       "    <tr style=\"text-align: right;\">\n",
       "      <th></th>\n",
       "      <th>Primary_Total</th>\n",
       "      <th>Upper Primary_Total</th>\n",
       "      <th>Secondary _Total</th>\n",
       "      <th>HrSecondary_Total</th>\n",
       "    </tr>\n",
       "  </thead>\n",
       "  <tbody>\n",
       "    <tr>\n",
       "      <th>Primary_Total</th>\n",
       "      <td>1.000000</td>\n",
       "      <td>0.769481</td>\n",
       "      <td>0.242518</td>\n",
       "      <td>-0.086143</td>\n",
       "    </tr>\n",
       "    <tr>\n",
       "      <th>Upper Primary_Total</th>\n",
       "      <td>0.769481</td>\n",
       "      <td>1.000000</td>\n",
       "      <td>0.383842</td>\n",
       "      <td>-0.083226</td>\n",
       "    </tr>\n",
       "    <tr>\n",
       "      <th>Secondary _Total</th>\n",
       "      <td>0.242518</td>\n",
       "      <td>0.383842</td>\n",
       "      <td>1.000000</td>\n",
       "      <td>0.155968</td>\n",
       "    </tr>\n",
       "    <tr>\n",
       "      <th>HrSecondary_Total</th>\n",
       "      <td>-0.086143</td>\n",
       "      <td>-0.083226</td>\n",
       "      <td>0.155968</td>\n",
       "      <td>1.000000</td>\n",
       "    </tr>\n",
       "  </tbody>\n",
       "</table>\n",
       "</div>"
      ],
      "text/plain": [
       "                     Primary_Total  Upper Primary_Total  Secondary _Total  \\\n",
       "Primary_Total             1.000000             0.769481          0.242518   \n",
       "Upper Primary_Total       0.769481             1.000000          0.383842   \n",
       "Secondary _Total          0.242518             0.383842          1.000000   \n",
       "HrSecondary_Total        -0.086143            -0.083226          0.155968   \n",
       "\n",
       "                     HrSecondary_Total  \n",
       "Primary_Total                -0.086143  \n",
       "Upper Primary_Total          -0.083226  \n",
       "Secondary _Total              0.155968  \n",
       "HrSecondary_Total             1.000000  "
      ]
     },
     "execution_count": 18,
     "metadata": {},
     "output_type": "execute_result"
    }
   ],
   "source": [
    "corr = df[['Primary_Total', 'Upper Primary_Total', 'Secondary _Total', 'HrSecondary_Total']].replace('NR', None).astype(float).corr()\n",
    "corr"
   ]
  },
  {
   "cell_type": "markdown",
   "metadata": {},
   "source": [
    "We can plot it as a matrix"
   ]
  },
  {
   "cell_type": "code",
   "execution_count": 19,
   "metadata": {},
   "outputs": [
    {
     "data": {
      "text/plain": [
       "<matplotlib.image.AxesImage at 0x1f9ffa76d68>"
      ]
     },
     "execution_count": 19,
     "metadata": {},
     "output_type": "execute_result"
    },
    {
     "data": {
      "image/png": "[encoded data removed]",
      "text/plain": [
       "<Figure size 288x288 with 1 Axes>"
      ]
     },
     "metadata": {
      "needs_background": "light"
     },
     "output_type": "display_data"
    }
   ],
   "source": [
    "plt.matshow(corr)"
   ]
  },
  {
   "cell_type": "code",
   "execution_count": null,
   "metadata": {},
   "outputs": [],
   "source": []
  }
 ],
 "metadata": {
  "kernelspec": {
   "display_name": "Python 3",
   "language": "python",
   "name": "python3"
  },
  "language_info": {
   "codemirror_mode": {
    "name": "ipython",
    "version": 3
   },
   "file_extension": ".py",
   "mimetype": "text/x-python",
   "name": "python",
   "nbconvert_exporter": "python",
   "pygments_lexer": "ipython3",
   "version": "3.6.5"
  }
 },
 "nbformat": 4,
 "nbformat_minor": 4
}
